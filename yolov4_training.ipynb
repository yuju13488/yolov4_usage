{
 "cells": [
  {
   "cell_type": "markdown",
   "metadata": {},
   "source": [
    "# Note:\n",
    "This file is in fold darknet/title/"
   ]
  },
  {
   "cell_type": "code",
   "execution_count": null,
   "metadata": {},
   "outputs": [],
   "source": [
    "import os\n",
    "\n",
    "path_bonescan = os.getcwd() + \"/\"\n",
    "os.getcwd()"
   ]
  },
  {
   "cell_type": "code",
   "execution_count": null,
   "metadata": {},
   "outputs": [],
   "source": [
    "try:\n",
    "    os.remove('./cfg/train.txt')\n",
    "except:\n",
    "    pass\n",
    "\n",
    "train = os.listdir(\"./yolo_train/\")\n",
    "for t in train:\n",
    "    if t[-3:] == \"png\":\n",
    "        with open('./cfg/train.txt', 'a', encoding = 'utf-8') as f:\n",
    "            f.write(path_bonescan + \"yolo_train/\" + t + \"\\n\")"
   ]
  },
  {
   "cell_type": "code",
   "execution_count": null,
   "metadata": {},
   "outputs": [],
   "source": [
    "try:\n",
    "    os.remove('./cfg/val.txt')\n",
    "except:\n",
    "    pass\n",
    "\n",
    "val = os.listdir(\"./yolo_val/\")\n",
    "for v in val:\n",
    "    if v[-3:] == \"png\":\n",
    "        with open('./cfg/val.txt', 'a', encoding = 'utf-8') as f:\n",
    "            f.write(path_bonescan + \"yolo_val/\" + t + \"\\n\")"
   ]
  },
  {
   "cell_type": "code",
   "execution_count": null,
   "metadata": {},
   "outputs": [],
   "source": [
    "os.chdir(\"./cfg/\")\n",
    "os.getcwd() # cfg/"
   ]
  },
  {
   "cell_type": "code",
   "execution_count": null,
   "metadata": {},
   "outputs": [],
   "source": [
    "import shutil\n",
    "shutil.copyfile(\"./test.data\", \"../../cfg/test.data\")\n",
    "shutil.copyfile(\"../../cfg/yolov4-tiny-custom.cfg\", \"./yolov4-tiny-obj.cfg\")\n",
    "!sed -i '212s/255/24/' yolov4-tiny-obj.cfg\n",
    "!sed -i '220s/80/3/' yolov4-tiny-obj.cfg\n",
    "!sed -i '263s/255/24/' yolov4-tiny-obj.cfg\n",
    "!sed -i '269s/80/3/' yolov4-tiny-obj.cfg\n",
    "!sed -n -e 212p -e 220p -e 263p -e 269p yolov4-tiny-obj.cfg"
   ]
  },
  {
   "cell_type": "code",
   "execution_count": null,
   "metadata": {},
   "outputs": [],
   "source": [
    "os.chdir(\"../../\")\n",
    "os.getcwd() # darknet/"
   ]
  },
  {
   "cell_type": "code",
   "execution_count": null,
   "metadata": {},
   "outputs": [],
   "source": [
    "# anchors => line219, 268 in yolov4-tiny-obj.cfg\n",
    "!./darknet detector calc_anchors Bone_Scan_1207/cfg/1207.data -num_of_clusters 6 -width 416 -height 416 -showpause\n",
    "\n",
    "# if OSError: ./libdarknet.so: cannot open shared object file: No such file or directory\n",
    "# !sed -i \"s/LIBSO=0/LIBSO=1/g\" Makefile\n",
    "# !make"
   ]
  },
  {
   "cell_type": "markdown",
   "metadata": {},
   "source": [
    "# cfg:\n",
    "learning_rate=0.00261<br>\n",
    "burn_in=1000<br>\n",
    "max_batches = 502000<br>\n",
    "policy=steps<br>\n",
    "steps=400000,450000<br>\n",
    "scales=.1,.1"
   ]
  },
  {
   "cell_type": "code",
   "execution_count": null,
   "metadata": {},
   "outputs": [],
   "source": [
    "# 1 Epoch = images_in_train_txt / batch iterations\n",
    "!./darknet detector train title/cfg/title.data title/cfg/yolov4-tiny-obj.cfg title/cfg/yolov4-tiny.conv.29 -dont_show<br />"
   ]
  },
  {
   "cell_type": "code",
   "execution_count": null,
   "metadata": {},
   "outputs": [],
   "source": []
  }
 ],
 "metadata": {
  "kernelspec": {
   "display_name": "Python 3",
   "language": "python",
   "name": "python3"
  },
  "language_info": {
   "codemirror_mode": {
    "name": "ipython",
    "version": 3
   },
   "file_extension": ".py",
   "mimetype": "text/x-python",
   "name": "python",
   "nbconvert_exporter": "python",
   "pygments_lexer": "ipython3",
   "version": "3.7.5"
  }
 },
 "nbformat": 4,
 "nbformat_minor": 4
}
