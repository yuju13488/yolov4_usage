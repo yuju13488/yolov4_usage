{
 "cells": [
  {
   "cell_type": "code",
   "execution_count": 5,
   "metadata": {},
   "outputs": [],
   "source": [
    "import os\n",
    "import shutil\n",
    "import random\n",
    "import cv2\n",
    "\n",
    "path_img = \"./test_img/\"\n",
    "path_labels = \"./labels/\"\n",
    "images = os.listdir(path_img)\n",
    "labels = os.listdir(path_labels)\n",
    "len(images)\n",
    "\n",
    "savepath = \"./groundtruths/\"\n",
    "try:\n",
    "    shutil.rmtree(savepath)\n",
    "except:\n",
    "    pass\n",
    "os.mkdir(savepath)"
   ]
  },
  {
   "cell_type": "code",
   "execution_count": 6,
   "metadata": {},
   "outputs": [],
   "source": [
    "# draw true lables on test file\n",
    "files = os.listdir(path_labels)\n",
    "for filename in images:\n",
    "    file = filename.replace(\"png\", \"txt\")\n",
    "    img = cv2.imread(path_img + filename)\n",
    "    img = cv2.cvtColor(img, cv2.COLOR_BGR2RGB)\n",
    "    with open(path_labels + file, 'r', encoding = 'utf-8') as f:\n",
    "        line = f.readline()\n",
    "        while line !='':\n",
    "            data = line.replace(\"\\n\", \"\").split(\" \")\n",
    "            x_c = round(float(data[1]) * img.shape[1])\n",
    "            y_c = round(float(data[2]) * img.shape[0])\n",
    "            w = round(float(data[3]) * img.shape[1])\n",
    "            h = round(float(data[4]) * img.shape[0])\n",
    "            x = round(x_c - w / 2)\n",
    "            y = round(y_c - h / 2)\n",
    "            line = f.readline()\n",
    "            if data[0] == \"0\":\n",
    "                img = cv2.rectangle(img, (x, y),\n",
    "                                    (x + w, y + h), (255, 0, 0), 2)\n",
    "            elif data[0] == \"1\":\n",
    "                img = cv2.rectangle(img, (x, y),\n",
    "                                    (x + w, y + h), (255, 255, 0), 2)\n",
    "            elif data[0] == \"2\":\n",
    "                img = cv2.rectangle(img, (x, y),\n",
    "                                    (x + w, y + h), (0, 255, 0), 2)\n",
    "    cv2.imwrite(savepath + filename, img[:,:,::-1])"
   ]
  }
 ],
 "metadata": {
  "kernelspec": {
   "display_name": "Python 3",
   "language": "python",
   "name": "python3"
  },
  "language_info": {
   "codemirror_mode": {
    "name": "ipython",
    "version": 3
   },
   "file_extension": ".py",
   "mimetype": "text/x-python",
   "name": "python",
   "nbconvert_exporter": "python",
   "pygments_lexer": "ipython3",
   "version": "3.7.5"
  }
 },
 "nbformat": 4,
 "nbformat_minor": 4
}
