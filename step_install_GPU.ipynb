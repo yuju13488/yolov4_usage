{
 "cells": [
  {
   "cell_type": "code",
   "execution_count": null,
   "metadata": {},
   "outputs": [],
   "source": [
    "# git clone\n",
    "!git clone https://github.com/AlexeyAB/darknet"
   ]
  },
  {
   "cell_type": "code",
   "execution_count": null,
   "metadata": {},
   "outputs": [],
   "source": [
    "# modify Makefile\n",
    "!sed -i \"s/GPU=0/GPU=1/g\" darknet/Makefile\n",
    "!sed -i \"s/CUDNN=0/CUDNN=1/g\" darknet/Makefile\n",
    "!sed -i \"s/CUDNN_HALF=0/CUDNN_HALF=1/g\" darknet/Makefile\n",
    "!sed -i \"s/OPENCV=0/OPENCV=1/g\" darknet/Makefile\n",
    "!head darknet/Makefile"
   ]
  },
  {
   "cell_type": "code",
   "execution_count": null,
   "metadata": {},
   "outputs": [],
   "source": [
    "# install\n",
    "%cd darknet/\n",
    "# sudo apt install libopencv-dev\n",
    "!make "
   ]
  },
  {
   "cell_type": "markdown",
   "metadata": {},
   "source": [
    "# No package 'opencv' found\n",
    "sudo apt-get update\n",
    "sudo apt install libopencv-dev "
   ]
  },
  {
   "cell_type": "code",
   "execution_count": null,
   "metadata": {},
   "outputs": [],
   "source": [
    "# sed -i \"s/GPU=0/GPU=1/g\" darknet/Makefile\n",
    "# sed -i \"s/CUDNN=0/CUDNN=1/g\" darknet/Makefile\n",
    "# sed -i \"s/CUDNN_HALF=0/CUDNN_HALF=1/g\" darknet/Makefile\n",
    "# sed -i \"s/OPENCV=0/OPENCV=1/g\" darknet/Makefile"
   ]
  },
  {
   "cell_type": "markdown",
   "metadata": {},
   "source": [
    "# Create work folder(title) in darknet/\n",
    "(1)title/yolo_train/: images_training + labels_training（Note1）<br />\n",
    "(2)title/yolo_val/: images_validation + labels_validation<br />\n",
    "(4)title/cfg/title.data: (Note2)<br />\n",
    "(5)title/cfg/title.names: name of classes<br />\n",
    "(6)title/cfg/train.txt: all absolute path of training data<br />\n",
    "(7)title/cfg/val.txt: all absolute path of validation data<br />\n",
    "(8)title/cfg/yolov4-tiny.conv.29: (Note3)<br />\n",
    "(9)title/cfg/weights/: save models<br />"
   ]
  },
  {
   "cell_type": "markdown",
   "metadata": {},
   "source": [
    "# 註Note：labels\n",
    "class &emsp; x_center / width &emsp; y_center / height &emsp; w_box / width &emsp; h_box / height"
   ]
  },
  {
   "cell_type": "markdown",
   "metadata": {},
   "source": [
    "# Note2：title.data\n",
    "classes = 3<br />\n",
    "train = absolute path of /train.txt<br />\n",
    "valid = absolute path of /val.txt<br />\n",
    "names = absolute path of /title.names<br />\n",
    "backup = absolute path of /weights/<br />"
   ]
  },
  {
   "cell_type": "markdown",
   "metadata": {},
   "source": [
    "# 註3：yolov4-tiny.conv.29\n",
    "修改classes及filters，filters = (classes + 5)*3<br />\n",
    "!sed -i '212s/255/24/' yolov4-tiny-obj.cfg<br />\n",
    "!sed -i '220s/80/3/' yolov4-tiny-obj.cfg<br />\n",
    "!sed -i '263s/255/24/' yolov4-tiny-obj.cfg<br />\n",
    "!sed -i '269s/80/3/' yolov4-tiny-obj.cfg<br />\n",
    "!sed -n -e 212p -e 220p -e 263p -e 269p yolov4-tiny-obj.cfg<br />\n",
    "<br />\n",
    "修改anchors => line219, 268<br />\n",
    "!./darknet detector calc_anchors cfg/title.data -num_of_clusters 6 -width 416 -height 416 -showpause<br />"
   ]
  },
  {
   "cell_type": "markdown",
   "metadata": {},
   "source": [
    "# Data Split: data_split.ipynb\n",
    "(1)prepaid images file in fold images/, and labels file in fold labels/<br />\n",
    "(2)data will splitting follow train00.txt, val00.txt, test00.txt in fold 00<br />"
   ]
  },
  {
   "cell_type": "markdown",
   "metadata": {},
   "source": [
    "# Training：yolov4_training.ipynb\n",
    "(1)To make train.txt and val.txt in fold cfg/<br /><br />\n",
    "(2)To moditfy cfg file: anchors => line219, 268 in yolov4-tiny-obj.cfg<br /><br />\n",
    "Note: if OSError: ./libdarknet.so: cannot open shared object file:<br />\n",
    "!sed -i \"s/LIBSO=0/LIBSO=1/g\" Makefile<br />\n",
    "!make<br /><br />\n",
    "(3)!./darknet detector train title/cfg/title.data title/cfg/yolov4-tiny-obj.cfg title/cfg/yolov4-tiny.conv.29 -dont_show<br />"
   ]
  },
  {
   "cell_type": "markdown",
   "metadata": {},
   "source": [
    "# Testing：yolov4_detection.ipynb\n",
    "(1)Remove \"#\" of batch, subdivisions under Testing，and \"#\" of batch, subdivisions under Training<br /><br />\n",
    "(2)Single picture：!./darknet detector test title/cfg/title.data title/cfg/yolov4-tiny-obj.cfg title/cfg/weights/yolov4-tiny-obj_last.weights -thresh 0.3 -ext_output \" absolute path of picture\" -out result.json<br /><br />\n",
    "(3)Multiple pictures：!./darknet detector test title/cfg/title.data title/cfg/yolov4-tiny-obj.cfg title/cfg/weights/yolov4-tiny-obj_last.weights -thresh 0.5 -ext_output -dont_show -out result.json < title/cfg/test.txt > result.txt<br />\n",
    "Note: all absolute path of test data in test.txt<br /><br />"
   ]
  },
  {
   "cell_type": "markdown",
   "metadata": {},
   "source": [
    "# Draw: yolov4_test_draw.ipynb\n",
    "higher confidence will be solid line, and lower confidence will be dotted line."
   ]
  },
  {
   "cell_type": "code",
   "execution_count": null,
   "metadata": {},
   "outputs": [],
   "source": []
  }
 ],
 "metadata": {
  "kernelspec": {
   "display_name": "Python 3",
   "language": "python",
   "name": "python3"
  },
  "language_info": {
   "codemirror_mode": {
    "name": "ipython",
    "version": 3
   },
   "file_extension": ".py",
   "mimetype": "text/x-python",
   "name": "python",
   "nbconvert_exporter": "python",
   "pygments_lexer": "ipython3",
   "version": "3.7.5"
  }
 },
 "nbformat": 4,
 "nbformat_minor": 4
}
