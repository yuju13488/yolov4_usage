{
 "cells": [
  {
   "cell_type": "code",
   "execution_count": 1,
   "metadata": {},
   "outputs": [
    {
     "name": "stdout",
     "output_type": "stream",
     "text": [
      "1176\n"
     ]
    }
   ],
   "source": [
    "import os\n",
    "import shutil\n",
    "import random\n",
    "\n",
    "fold = \"00\" # dir for data split, include train00.txt, val00.txt, test00.txt\n",
    "\n",
    "path_local = os.getcwd()\n",
    "path_image = path_local + \"/images/\" # all images data\n",
    "path_label = path_local + \"/labels/\" # all labels data\n",
    "\n",
    "# data of train: copy both of images file and labels file into yolo_train/ form train00.txt\n",
    "path_train = path_local + \"/yolo_train/\"\n",
    "try:\n",
    "    shutil.rmtree(path_train)\n",
    "except:\n",
    "    pass\n",
    "os.mkdir(path_train)\n",
    "try:\n",
    "    os.remove('./cfg/train.txt')\n",
    "except:\n",
    "    pass\n",
    "\n",
    "with open('./fold' + fold + '/train' + fold + '.txt', 'r', encoding = 'utf-8') as f:\n",
    "    lines = f.readlines()\n",
    "print(len(lines))\n",
    "for line in lines:\n",
    "    line = line.replace(\"\\n\", \"\")\n",
    "    shutil.copyfile(line.replace(\"../images/\", \"./images/\"),\n",
    "                    path_train + line.replace(\"../images/\", \"\"))\n",
    "    shutil.copyfile(line.replace(\"../images\", \"./labels\").replace(\"png\", \"txt\"), \n",
    "                    path_train + line.replace(\"../images/\", \"\").replace(\"png\", \"txt\"))\n",
    "    with open('./cfg/train.txt', 'a', encoding = 'utf-8') as g:\n",
    "        g.write(path_train + line.replace(\"../images/\", \"\") + \"\\n\")"
   ]
  },
  {
   "cell_type": "code",
   "execution_count": 2,
   "metadata": {},
   "outputs": [
    {
     "name": "stdout",
     "output_type": "stream",
     "text": [
      "69\n"
     ]
    }
   ],
   "source": [
    "# data of val: # data of train: copy both of images file and labels file into yolo_val/ form val00.txt\n",
    "path_val = path_local + \"/yolo_val/\"\n",
    "try:\n",
    "    shutil.rmtree(path_val)\n",
    "except:\n",
    "    pass\n",
    "os.mkdir(path_val)\n",
    "try:\n",
    "    os.remove('./cfg/val.txt')\n",
    "except:\n",
    "    pass\n",
    "\n",
    "with open('./fold' + fold + '/val' + fold + '.txt', 'r', encoding = 'utf-8') as h:\n",
    "    lines = h.readlines()\n",
    "print(len(lines))\n",
    "for line in lines:\n",
    "    line = line.replace(\"\\n\", \"\")\n",
    "    shutil.copyfile(line.replace(\"../images/\", \"./images/\"),\n",
    "                    path_val + line.replace(\"../images/\", \"\"))\n",
    "    shutil.copyfile(line.replace(\"../images\", \"./labels\").replace(\"png\", \"txt\"), \n",
    "                    path_val + line.replace(\"../images/\", \"\").replace(\"png\", \"txt\"))\n",
    "    with open('./cfg/val.txt', 'a', encoding = 'utf-8') as m:\n",
    "        m.write(path_val + line.replace(\"../images/\", \"\") + \"\\n\")"
   ]
  },
  {
   "cell_type": "code",
   "execution_count": 3,
   "metadata": {},
   "outputs": [
    {
     "name": "stdout",
     "output_type": "stream",
     "text": [
      "19\n"
     ]
    }
   ],
   "source": [
    "# data of train: copy both of images file and labels file into test/, and only images file into test_img/ form test00.txt\n",
    "path_test = path_local + \"/test/\"\n",
    "path_test_img = path_local + \"/test_img/\"\n",
    "try:\n",
    "    shutil.rmtree(path_test)\n",
    "    shutil.rmtree(path_test_img)\n",
    "except:\n",
    "    pass\n",
    "os.mkdir(path_test)\n",
    "os.mkdir(path_test_img)\n",
    "try:\n",
    "    os.remove('./cfg/test.txt')\n",
    "    os.remove('./cfg/test_img.txt')\n",
    "except:\n",
    "    pass\n",
    "\n",
    "with open('./fold' + fold + '/test' + fold + '.txt', 'r', encoding = 'utf-8') as h:\n",
    "    lines = h.readlines() #利用\\n判斷是否換行讀取，會讀取入\\n並印出\n",
    "print(len(lines))\n",
    "for line in lines:\n",
    "    line = line.replace(\"\\n\", \"\")\n",
    "    shutil.copyfile(line.replace(\"../images/\", \"./images/\"),\n",
    "                    path_test_img + line.replace(\"../images/\", \"\"))\n",
    "    shutil.copyfile(line.replace(\"../images/\", \"./images/\"),\n",
    "                    path_test + line.replace(\"../images/\", \"\"))\n",
    "    shutil.copyfile(line.replace(\"../images\", \"./labels\").replace(\"png\", \"txt\"), \n",
    "                    path_test + line.replace(\"../images/\", \"\").replace(\"png\", \"txt\"))\n",
    "    with open('./cfg/test.txt', 'a', encoding = 'utf-8') as t:\n",
    "        t.write(path_test + line.replace(\"../images/\", \"\") + \"\\n\")\n",
    "    with open('./cfg/test_img.txt', 'a', encoding = 'utf-8') as t_i:\n",
    "        t_i.write(path_test + line.replace(\"../images/\", \"\") + \"\\n\")"
   ]
  },
  {
   "cell_type": "code",
   "execution_count": null,
   "metadata": {},
   "outputs": [],
   "source": []
  }
 ],
 "metadata": {
  "kernelspec": {
   "display_name": "Python 3",
   "language": "python",
   "name": "python3"
  },
  "language_info": {
   "codemirror_mode": {
    "name": "ipython",
    "version": 3
   },
   "file_extension": ".py",
   "mimetype": "text/x-python",
   "name": "python",
   "nbconvert_exporter": "python",
   "pygments_lexer": "ipython3",
   "version": "3.7.5"
  }
 },
 "nbformat": 4,
 "nbformat_minor": 4
}
